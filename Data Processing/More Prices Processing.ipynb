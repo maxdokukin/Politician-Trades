{
  "nbformat": 4,
  "nbformat_minor": 0,
  "metadata": {
    "colab": {
      "provenance": []
    },
    "kernelspec": {
      "name": "python3",
      "display_name": "Python 3"
    },
    "language_info": {
      "name": "python"
    }
  },
  "cells": [
    {
      "cell_type": "code",
      "execution_count": 7,
      "metadata": {
        "id": "xkNRHsCKtb5h"
      },
      "outputs": [],
      "source": [
        "import pandas as pd\n",
        "\n",
        "df = pd.read_csv('https://raw.githubusercontent.com/maxdokukin/Politician-Trades/main/Data/data/more_prices.csv')"
      ]
    },
    {
      "cell_type": "code",
      "source": [
        "# before purchase average annualized rate of change\n",
        "df['pd1'] = ((df['Price_-60_days'] / df['Price_-90_days'] - 1) / 30) * 365\n",
        "df['pd2'] = ((df['Price_-40_days'] / df['Price_-60_days'] - 1)  / 20) * 365\n",
        "df['pd3'] = ((df['Price_-20_days'] / df['Price_-40_days'] - 1)  / 20) * 365\n",
        "df['pd4'] = ((df['Price_-10_days'] / df['Price_-20_days'] - 1)  / 10) * 365\n",
        "df['pd5'] = ((df['Price_0_days'] / df['Price_-10_days'] - 1)  / 10) * 365\n",
        "\n",
        "# before purchase average of the averages of annualized rate of change\n",
        "df['pd_avg'] = df[['pd1', 'pd2', 'pd3', 'pd4', 'pd5']].sum(axis=1) / 5\n",
        "\n",
        "# after purchase average annualized rate of change\n",
        "df['fd1'] = ((df['Price_10_days'] / df['Price_0_days'] - 1)  / 10) * 365\n",
        "df['fd2'] = ((df['Price_20_days'] / df['Price_10_days'] - 1)  / 10) * 365\n",
        "df['fd3'] = ((df['Price_40_days'] / df['Price_20_days'] - 1)  / 20) * 365\n",
        "df['fd4'] = ((df['Price_60_days'] / df['Price_40_days'] - 1)  / 20) * 365\n",
        "df['fd5'] = ((df['Price_90_days'] / df['Price_60_days'] - 1)  / 30) * 365\n",
        "\n",
        "# after purchase average of the averages of annualized rate of change\n",
        "df['fd_avg'] = df[['fd1', 'fd2', 'fd3', 'fd4', 'fd5']].sum(axis=1) / 5\n",
        "\n",
        "# delta of average before and after purchase performances\n",
        "df['perf_delta'] = df['fd_avg'] - df['pd_avg']"
      ],
      "metadata": {
        "id": "_xpdHU2gtu1w"
      },
      "execution_count": 8,
      "outputs": []
    },
    {
      "cell_type": "code",
      "source": [
        "df.loc[df['Transaction Type'] == 'RECEIVE', 'Transaction Type'] = 'BUY'\n",
        "df.drop(df[df['Transaction Type'] == 'EXCHANGE'].index, inplace=True)\n",
        "df.drop(df[df['Party'] == 'Other'].index, inplace=True)"
      ],
      "metadata": {
        "id": "627Hv6JOBdUu"
      },
      "execution_count": 9,
      "outputs": []
    },
    {
      "cell_type": "code",
      "source": [
        "def market_figure(row):\n",
        "    if row.pd_avg <= 0 and row.fd_avg <= 0:\n",
        "        return 'CTS_DOWN'\n",
        "    elif row.pd_avg >= 0 and row.fd_avg >= 0:\n",
        "        return 'CTS_UP'\n",
        "    elif row.pd_avg > 0 and row.fd_avg < 0:\n",
        "        return 'PEAK'\n",
        "    elif row.pd_avg < 0 and row.fd_avg > 0:\n",
        "        return 'DIP'\n",
        "\n",
        "df['market_figure'] = df.apply(market_figure, axis=1)\n",
        "df['market_figure'].value_counts()"
      ],
      "metadata": {
        "colab": {
          "base_uri": "https://localhost:8080/"
        },
        "id": "S8gVAiE69E7u",
        "outputId": "dc39e4a0-6d01-4338-a7aa-258c3248b8fb"
      },
      "execution_count": 10,
      "outputs": [
        {
          "output_type": "execute_result",
          "data": {
            "text/plain": [
              "market_figure\n",
              "DIP         9562\n",
              "CTS_DOWN    7702\n",
              "CTS_UP      7604\n",
              "PEAK        6702\n",
              "Name: count, dtype: int64"
            ]
          },
          "metadata": {},
          "execution_count": 10
        }
      ]
    },
    {
      "cell_type": "code",
      "source": [
        "def eval_success(row):\n",
        "    decision_map = {\n",
        "        ('CTS_DOWN', 'SELL'): 'Good Decision',\n",
        "        ('CTS_UP', 'SELL'): 'Bad Decision',\n",
        "        ('PEAK', 'SELL'): 'Very Good Decision',\n",
        "        ('DIP', 'SELL'): 'Very Bad Decision',\n",
        "        ('CTS_DOWN', 'BUY'): 'Bad Decision',\n",
        "        ('CTS_UP', 'BUY'): 'Good Decision',\n",
        "        ('PEAK', 'BUY'): 'Very Bad Decision',\n",
        "        ('DIP', 'BUY'): 'Very Good Decision'\n",
        "    }\n",
        "    return decision_map[(row['market_figure'], row['Transaction Type'])]\n",
        "\n",
        "df['transaction_eval'] = df.apply(eval_success, axis=1)\n",
        "df['transaction_eval'].value_counts()"
      ],
      "metadata": {
        "colab": {
          "base_uri": "https://localhost:8080/"
        },
        "id": "T-lO_Q7-9wop",
        "outputId": "4e2d141f-499c-4c4b-9038-eaf150fd8fb7"
      },
      "execution_count": 11,
      "outputs": [
        {
          "output_type": "execute_result",
          "data": {
            "text/plain": [
              "transaction_eval\n",
              "Very Bad Decision     8210\n",
              "Very Good Decision    8054\n",
              "Good Decision         7857\n",
              "Bad Decision          7449\n",
              "Name: count, dtype: int64"
            ]
          },
          "metadata": {},
          "execution_count": 11
        }
      ]
    },
    {
      "cell_type": "code",
      "source": [
        "df\n",
        "\n",
        "file_path = '/content/drive/MyDrive/Politician Trades/more_prices_processed.csv'\n",
        "df.to_csv(file_path, index=False)"
      ],
      "metadata": {
        "id": "D3vM_IomRtmR"
      },
      "execution_count": 12,
      "outputs": []
    }
  ]
}